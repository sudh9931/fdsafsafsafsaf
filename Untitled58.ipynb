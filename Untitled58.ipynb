{
 "cells": [
  {
   "cell_type": "code",
   "execution_count": null,
   "metadata": {},
   "outputs": [],
   "source": [
    "vf\n",
    "dsaf\n",
    "sadf\n",
    "dsaf\n",
    "s\n",
    "df\n",
    "df\n",
    "dsf\n",
    "ds\n",
    "fsa\n",
    "df\n",
    "sdf\n",
    "sdf\n",
    "\n",
    "df\n",
    "adf\n",
    "a"
   ]
  }
 ],
 "metadata": {
  "kernelspec": {
   "display_name": "Python 3",
   "language": "python",
   "name": "python3"
  },
  "language_info": {
   "codemirror_mode": {
    "name": "ipython",
    "version": 3
   },
   "file_extension": ".py",
   "mimetype": "text/x-python",
   "name": "python",
   "nbconvert_exporter": "python",
   "pygments_lexer": "ipython3",
   "version": "3.8.5"
  }
 },
 "nbformat": 4,
 "nbformat_minor": 4
}
